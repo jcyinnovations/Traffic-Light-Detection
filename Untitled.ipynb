{
 "cells": [
  {
   "cell_type": "code",
   "execution_count": null,
   "metadata": {
    "collapsed": true
   },
   "outputs": [],
   "source": [
    "import os\n",
    "import argparse\n",
    "import warnings\n",
    "import tensorflow as tf\n",
    "import helper\n",
    "from distutils.version import LooseVersion\n",
    "from os.path import join, expanduser\n",
    "\n",
    "# Check TensorFlow Version\n",
    "assert LooseVersion(tf.__version__) >= LooseVersion('1.0'),\\\n",
    "    'Please use TensorFlow version 1.0 or newer.  You are using {}'.format(tf.__version__)\n",
    "print('TensorFlow Version: {}'.format(tf.__version__))\n",
    "\n",
    "# Check for a GPU\n",
    "if not tf.test.gpu_device_name():\n",
    "    warnings.warn('No GPU found. Please use a GPU to train your neural network.')\n",
    "else:\n",
    "    print('Default GPU Device: {}'.format(tf.test.gpu_device_name()))\n",
    "\n",
    "\n",
    "def load_vgg(sess, vgg_path):\n",
    "    \"\"\"\n",
    "    Load Pretrained VGG Model into TensorFlow.\n",
    "\n",
    "    :param sess: TensorFlow Session\n",
    "    :param vgg_path: Path to vgg folder, containing \"variables/\" and \"saved_model.pb\"\n",
    "    :return: Tuple of Tensors from VGG model (image_input, keep_prob, layer3_out, layer4_out, layer7_out)\n",
    "    \"\"\"\n",
    "\n",
    "    vgg_input_tensor_name = 'image_input:0'\n",
    "    vgg_keep_prob_tensor_name = 'keep_prob:0'\n",
    "    vgg_layer3_out_tensor_name = 'layer3_out:0'\n",
    "    vgg_layer4_out_tensor_name = 'layer4_out:0'\n",
    "    vgg_layer7_out_tensor_name = 'layer7_out:0'\n",
    "\n",
    "    tf.saved_model.loader.load(sess, ['vgg16'], vgg_path)\n",
    "    graph = tf.get_default_graph()\n",
    "\n",
    "    image_input = graph.get_tensor_by_name(vgg_input_tensor_name)\n",
    "    keep_prob = graph.get_tensor_by_name(vgg_keep_prob_tensor_name)\n",
    "    layer3_out = graph.get_tensor_by_name(vgg_layer3_out_tensor_name)\n",
    "    layer4_out = graph.get_tensor_by_name(vgg_layer4_out_tensor_name)\n",
    "    layer7_out = graph.get_tensor_by_name(vgg_layer7_out_tensor_name)\n",
    "\n",
    "    return image_input, keep_prob, layer3_out, layer4_out, layer7_out\n"
   ]
  },
  {
   "cell_type": "code",
   "execution_count": null,
   "metadata": {
    "collapsed": true
   },
   "outputs": [],
   "source": [
    "def layers(vgg_layer3_out, vgg_layer4_out, vgg_layer7_out, num_classes):\n",
    "    \"\"\"\n",
    "    Create the layers for a fully convolutional network.  Build skip-layers using the vgg layers.\n",
    "    For reference: https://people.eecs.berkeley.edu/~jonlong/long_shelhamer_fcn.pdf\n",
    "\n",
    "    :param vgg_layer7_out: TF Tensor for VGG Layer 3 output\n",
    "    :param vgg_layer4_out: TF Tensor for VGG Layer 4 output\n",
    "    :param vgg_layer3_out: TF Tensor for VGG Layer 7 output\n",
    "    :param num_classes: Number of classes to classify\n",
    "    :return: The Tensor for the last layer of output\n",
    "    \"\"\"\n",
    "\n",
    "    kreg  = tf.contrib.layers.l2_regularizer(0.5)\n",
    "    kinit = tf.keras.initializers.he_normal()\n",
    "    #kinit = None\n",
    "    \n",
    "    # Reduce channels to fit road/not-road required output\n",
    "    layer3 = tf.layers.conv2d(vgg_layer3_out, num_classes, kernel_size=[1, 1], padding='same', kernel_initializer=kinit, kernel_regularizer=kreg)\n",
    "    layer4 = tf.layers.conv2d(vgg_layer4_out, num_classes, kernel_size=[1, 1], padding='same', kernel_initializer=kinit, kernel_regularizer=kreg)\n",
    "    layer7 = tf.layers.conv2d(vgg_layer7_out, num_classes, kernel_size=[1, 1], padding='same', kernel_initializer=kinit, kernel_regularizer=kreg)\n",
    "\n",
    "    # Add skip connections from layers 3, 4, and 7\n",
    "    layer7_scaled = tf.image.resize_images(layer7, size=[10, 36])\n",
    "    combined_47 = tf.add(layer7_scaled, layer4)\n",
    "    combined_47_scaled = tf.image.resize_images(combined_47, size=[20, 72])\n",
    "    combined_347 = tf.add(layer3, combined_47_scaled)\n",
    "\n",
    "    # resize to original size\n",
    "    combined_347_scaled = tf.image.resize_images(combined_347, size=[160, 576])\n",
    "    combined_347_scaled = tf.layers.conv2d(combined_347_scaled, num_classes, kernel_size=[15, 15], padding='same', kernel_regularizer=kreg)\n",
    "\n",
    "    return combined_347_scaled\n",
    "\n"
   ]
  },
  {
   "cell_type": "code",
   "execution_count": null,
   "metadata": {
    "collapsed": true
   },
   "outputs": [],
   "source": [
    "def optimize(nn_output, labels, learning_rate, num_classes):\n",
    "    \"\"\"\n",
    "    Build the TensorFLow loss and optimizer operations.\n",
    "    :param nn_output: TF Tensor of the last layer in the neural network\n",
    "    :param labels: TF Placeholder for the correct label image\n",
    "    :param learning_rate: TF Placeholder for the learning rate\n",
    "    :param num_classes: Number of classes to classify\n",
    "    :return: Tuple of (logits, train_op, cross_entropy_loss)\n",
    "    \"\"\"\n",
    "    # Flatten labels and output before applying cross entropy\n",
    "    logits = tf.reshape(nn_output, (-1, num_classes))\n",
    "    labels = tf.reshape(labels, (-1, num_classes))\n",
    "    # Define loss\n",
    "    cross_entropy_loss = tf.reduce_mean(tf.nn.softmax_cross_entropy_with_logits(labels=labels, logits=logits))\n",
    "    # Define optimization step\n",
    "    training_op = tf.train.AdamOptimizer(learning_rate=learning_rate).minimize(cross_entropy_loss)\n",
    "    return logits, training_op, cross_entropy_loss\n",
    "\n",
    "def train_nn(sess, epochs, batch_size, get_batches_fn, train_op, cross_entropy_loss, img, labels, keep_prob, learning_rate):\n",
    "    \"\"\"\n",
    "    Train neural network and print out the loss during training.\n",
    "    :param sess: TF Session\n",
    "    :param epochs: Number of epochs\n",
    "    :param batch_size: Batch size\n",
    "    :param get_batches_fn: Function to get batches of training data.  Call using get_batches_fn(batch_size)\n",
    "    :param train_op: TF Operation to train the neural network\n",
    "    :param cross_entropy_loss: TF Tensor for the amount of loss\n",
    "    :param img: TF Placeholder for input images\n",
    "    :param labels: TF Placeholder for label images\n",
    "    :param keep_prob: TF Placeholder for dropout keep probability\n",
    "    :param learning_rate: TF Placeholder for learning rate\n",
    "    \"\"\"\n",
    "\n",
    "    sess.run(tf.global_variables_initializer())\n",
    "    lr = 0.0001\n",
    "    repeats = 100\n",
    "    \n",
    "    for e in range(0, epochs):\n",
    "        epoch_loss = 0.0\n",
    "        for i in range(0, repeats):\n",
    "            # Load a batch of examples\n",
    "            batch_x, batch_y = next(get_batches_fn(batch_size))\n",
    "            _, loss = sess.run(fetches=[train_op, cross_entropy_loss], feed_dict={img: batch_x, labels: batch_y, keep_prob: 0.50, learning_rate: lr})\n",
    "            epoch_loss += loss\n",
    "\n",
    "        print('Epoch: {:02d}, Loss: {:.03f}'.format(e, epoch_loss/repeats))\n"
   ]
  },
  {
   "cell_type": "code",
   "execution_count": null,
   "metadata": {
    "collapsed": true
   },
   "outputs": [],
   "source": [
    "\n",
    "def run():\n",
    "    num_classes = 2\n",
    "    data_dir = './data'\n",
    "    runs_dir = './runs'\n",
    "    h, w = (160, 576)\n",
    "    batch_size = 8\n",
    "    epochs = 50\n",
    "    \n",
    "    with tf.Session() as sess:\n",
    "        vgg_path = join(data_dir, 'vgg')\n",
    "        gen = helper.gen_batch_function(join(data_dir, 'data_road/training'), (h, w))\n",
    "        input_img, keep_prob, vgg_layer3_out, vgg_layer4_out, vgg_layer7_out = load_vgg(sess, vgg_path)\n",
    "        model_output = layers(vgg_layer3_out, vgg_layer4_out, vgg_layer7_out, num_classes)\n",
    "        labels = tf.placeholder(tf.float32, shape=[None, h, w, num_classes])\n",
    "        learning_rate = tf.placeholder(tf.float32, shape=[])\n",
    "        logits, train_op, cross_entropy_loss = optimize(model_output, labels, learning_rate, num_classes)\n",
    "        train_nn(sess, epochs, batch_size, gen, train_op, cross_entropy_loss, input_img, labels, keep_prob, learning_rate)\n",
    "        helper.save_inference_samples(runs_dir, data_dir, sess, (h, w), logits, keep_prob, input_img)\n",
    "\n",
    "if __name__ == '__main__':\n",
    "    #Using a multi-gpu server so have to switch off all but one GPU for simplicity\n",
    "    os.environ['CUDA_VISIBLE_DEVICES'] = \"0\"\n",
    "    run()\n"
   ]
  }
 ],
 "metadata": {
  "kernelspec": {
   "display_name": "Python 3",
   "language": "python",
   "name": "python3"
  },
  "language_info": {
   "codemirror_mode": {
    "name": "ipython",
    "version": 3
   },
   "file_extension": ".py",
   "mimetype": "text/x-python",
   "name": "python",
   "nbconvert_exporter": "python",
   "pygments_lexer": "ipython3",
   "version": "3.5.2"
  },
  "toc": {
   "base_numbering": 1,
   "nav_menu": {},
   "number_sections": true,
   "sideBar": true,
   "skip_h1_title": false,
   "title_cell": "Table of Contents",
   "title_sidebar": "Contents",
   "toc_cell": false,
   "toc_position": {},
   "toc_section_display": true,
   "toc_window_display": false
  },
  "varInspector": {
   "cols": {
    "lenName": 16,
    "lenType": 16,
    "lenVar": 40
   },
   "kernels_config": {
    "python": {
     "delete_cmd_postfix": "",
     "delete_cmd_prefix": "del ",
     "library": "var_list.py",
     "varRefreshCmd": "print(var_dic_list())"
    },
    "r": {
     "delete_cmd_postfix": ") ",
     "delete_cmd_prefix": "rm(",
     "library": "var_list.r",
     "varRefreshCmd": "cat(var_dic_list()) "
    }
   },
   "types_to_exclude": [
    "module",
    "function",
    "builtin_function_or_method",
    "instance",
    "_Feature"
   ],
   "window_display": false
  }
 },
 "nbformat": 4,
 "nbformat_minor": 2
}
